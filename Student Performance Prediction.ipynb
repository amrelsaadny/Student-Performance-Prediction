{
 "cells": [
  {
   "cell_type": "code",
   "execution_count": 1,
   "id": "c2c572f0",
   "metadata": {},
   "outputs": [],
   "source": [
    "import numpy as np\n",
    "import pandas as pd\n",
    "import matplotlib.pyplot as plt\n",
    "import seaborn as sns "
   ]
  },
  {
   "cell_type": "code",
   "execution_count": 2,
   "id": "1769a2a2",
   "metadata": {},
   "outputs": [],
   "source": [
    "df=pd.read_csv(\"exams.csv\")"
   ]
  },
  {
   "cell_type": "code",
   "execution_count": 3,
   "id": "354b5a2f",
   "metadata": {},
   "outputs": [
    {
     "data": {
      "text/html": [
       "<div>\n",
       "<style scoped>\n",
       "    .dataframe tbody tr th:only-of-type {\n",
       "        vertical-align: middle;\n",
       "    }\n",
       "\n",
       "    .dataframe tbody tr th {\n",
       "        vertical-align: top;\n",
       "    }\n",
       "\n",
       "    .dataframe thead th {\n",
       "        text-align: right;\n",
       "    }\n",
       "</style>\n",
       "<table border=\"1\" class=\"dataframe\">\n",
       "  <thead>\n",
       "    <tr style=\"text-align: right;\">\n",
       "      <th></th>\n",
       "      <th>gender</th>\n",
       "      <th>race/ethnicity</th>\n",
       "      <th>parental level of education</th>\n",
       "      <th>lunch</th>\n",
       "      <th>test preparation course</th>\n",
       "      <th>math score</th>\n",
       "      <th>reading score</th>\n",
       "      <th>writing score</th>\n",
       "    </tr>\n",
       "  </thead>\n",
       "  <tbody>\n",
       "    <tr>\n",
       "      <th>0</th>\n",
       "      <td>female</td>\n",
       "      <td>group D</td>\n",
       "      <td>some college</td>\n",
       "      <td>standard</td>\n",
       "      <td>completed</td>\n",
       "      <td>59</td>\n",
       "      <td>70</td>\n",
       "      <td>78</td>\n",
       "    </tr>\n",
       "    <tr>\n",
       "      <th>1</th>\n",
       "      <td>male</td>\n",
       "      <td>group D</td>\n",
       "      <td>associate's degree</td>\n",
       "      <td>standard</td>\n",
       "      <td>none</td>\n",
       "      <td>96</td>\n",
       "      <td>93</td>\n",
       "      <td>87</td>\n",
       "    </tr>\n",
       "    <tr>\n",
       "      <th>2</th>\n",
       "      <td>female</td>\n",
       "      <td>group D</td>\n",
       "      <td>some college</td>\n",
       "      <td>free/reduced</td>\n",
       "      <td>none</td>\n",
       "      <td>57</td>\n",
       "      <td>76</td>\n",
       "      <td>77</td>\n",
       "    </tr>\n",
       "    <tr>\n",
       "      <th>3</th>\n",
       "      <td>male</td>\n",
       "      <td>group B</td>\n",
       "      <td>some college</td>\n",
       "      <td>free/reduced</td>\n",
       "      <td>none</td>\n",
       "      <td>70</td>\n",
       "      <td>70</td>\n",
       "      <td>63</td>\n",
       "    </tr>\n",
       "    <tr>\n",
       "      <th>4</th>\n",
       "      <td>female</td>\n",
       "      <td>group D</td>\n",
       "      <td>associate's degree</td>\n",
       "      <td>standard</td>\n",
       "      <td>none</td>\n",
       "      <td>83</td>\n",
       "      <td>85</td>\n",
       "      <td>86</td>\n",
       "    </tr>\n",
       "    <tr>\n",
       "      <th>...</th>\n",
       "      <td>...</td>\n",
       "      <td>...</td>\n",
       "      <td>...</td>\n",
       "      <td>...</td>\n",
       "      <td>...</td>\n",
       "      <td>...</td>\n",
       "      <td>...</td>\n",
       "      <td>...</td>\n",
       "    </tr>\n",
       "    <tr>\n",
       "      <th>995</th>\n",
       "      <td>male</td>\n",
       "      <td>group C</td>\n",
       "      <td>some college</td>\n",
       "      <td>standard</td>\n",
       "      <td>none</td>\n",
       "      <td>77</td>\n",
       "      <td>77</td>\n",
       "      <td>71</td>\n",
       "    </tr>\n",
       "    <tr>\n",
       "      <th>996</th>\n",
       "      <td>male</td>\n",
       "      <td>group C</td>\n",
       "      <td>some college</td>\n",
       "      <td>standard</td>\n",
       "      <td>none</td>\n",
       "      <td>80</td>\n",
       "      <td>66</td>\n",
       "      <td>66</td>\n",
       "    </tr>\n",
       "    <tr>\n",
       "      <th>997</th>\n",
       "      <td>female</td>\n",
       "      <td>group A</td>\n",
       "      <td>high school</td>\n",
       "      <td>standard</td>\n",
       "      <td>completed</td>\n",
       "      <td>67</td>\n",
       "      <td>86</td>\n",
       "      <td>86</td>\n",
       "    </tr>\n",
       "    <tr>\n",
       "      <th>998</th>\n",
       "      <td>male</td>\n",
       "      <td>group E</td>\n",
       "      <td>high school</td>\n",
       "      <td>standard</td>\n",
       "      <td>none</td>\n",
       "      <td>80</td>\n",
       "      <td>72</td>\n",
       "      <td>62</td>\n",
       "    </tr>\n",
       "    <tr>\n",
       "      <th>999</th>\n",
       "      <td>male</td>\n",
       "      <td>group D</td>\n",
       "      <td>high school</td>\n",
       "      <td>standard</td>\n",
       "      <td>none</td>\n",
       "      <td>58</td>\n",
       "      <td>47</td>\n",
       "      <td>45</td>\n",
       "    </tr>\n",
       "  </tbody>\n",
       "</table>\n",
       "<p>1000 rows × 8 columns</p>\n",
       "</div>"
      ],
      "text/plain": [
       "     gender race/ethnicity parental level of education         lunch  \\\n",
       "0    female        group D                some college      standard   \n",
       "1      male        group D          associate's degree      standard   \n",
       "2    female        group D                some college  free/reduced   \n",
       "3      male        group B                some college  free/reduced   \n",
       "4    female        group D          associate's degree      standard   \n",
       "..      ...            ...                         ...           ...   \n",
       "995    male        group C                some college      standard   \n",
       "996    male        group C                some college      standard   \n",
       "997  female        group A                 high school      standard   \n",
       "998    male        group E                 high school      standard   \n",
       "999    male        group D                 high school      standard   \n",
       "\n",
       "    test preparation course  math score  reading score  writing score  \n",
       "0                 completed          59             70             78  \n",
       "1                      none          96             93             87  \n",
       "2                      none          57             76             77  \n",
       "3                      none          70             70             63  \n",
       "4                      none          83             85             86  \n",
       "..                      ...         ...            ...            ...  \n",
       "995                    none          77             77             71  \n",
       "996                    none          80             66             66  \n",
       "997               completed          67             86             86  \n",
       "998                    none          80             72             62  \n",
       "999                    none          58             47             45  \n",
       "\n",
       "[1000 rows x 8 columns]"
      ]
     },
     "execution_count": 3,
     "metadata": {},
     "output_type": "execute_result"
    }
   ],
   "source": [
    "df"
   ]
  },
  {
   "cell_type": "code",
   "execution_count": 4,
   "id": "e6fa87fb",
   "metadata": {},
   "outputs": [
    {
     "data": {
      "text/plain": [
       "(1000, 8)"
      ]
     },
     "execution_count": 4,
     "metadata": {},
     "output_type": "execute_result"
    }
   ],
   "source": [
    "df.shape"
   ]
  },
  {
   "cell_type": "code",
   "execution_count": 5,
   "id": "375344fe",
   "metadata": {},
   "outputs": [
    {
     "data": {
      "text/plain": [
       "Index(['gender', 'race/ethnicity', 'parental level of education', 'lunch',\n",
       "       'test preparation course', 'math score', 'reading score',\n",
       "       'writing score'],\n",
       "      dtype='object')"
      ]
     },
     "execution_count": 5,
     "metadata": {},
     "output_type": "execute_result"
    }
   ],
   "source": [
    "df.columns"
   ]
  },
  {
   "cell_type": "code",
   "execution_count": 6,
   "id": "ab8f439f",
   "metadata": {},
   "outputs": [
    {
     "name": "stdout",
     "output_type": "stream",
     "text": [
      "<class 'pandas.core.frame.DataFrame'>\n",
      "RangeIndex: 1000 entries, 0 to 999\n",
      "Data columns (total 8 columns):\n",
      " #   Column                       Non-Null Count  Dtype \n",
      "---  ------                       --------------  ----- \n",
      " 0   gender                       1000 non-null   object\n",
      " 1   race/ethnicity               1000 non-null   object\n",
      " 2   parental level of education  1000 non-null   object\n",
      " 3   lunch                        1000 non-null   object\n",
      " 4   test preparation course      1000 non-null   object\n",
      " 5   math score                   1000 non-null   int64 \n",
      " 6   reading score                1000 non-null   int64 \n",
      " 7   writing score                1000 non-null   int64 \n",
      "dtypes: int64(3), object(5)\n",
      "memory usage: 62.6+ KB\n"
     ]
    }
   ],
   "source": [
    "df.info()"
   ]
  },
  {
   "cell_type": "code",
   "execution_count": 7,
   "id": "48d523bb",
   "metadata": {},
   "outputs": [
    {
     "data": {
      "text/plain": [
       "gender                         0\n",
       "race/ethnicity                 0\n",
       "parental level of education    0\n",
       "lunch                          0\n",
       "test preparation course        0\n",
       "math score                     0\n",
       "reading score                  0\n",
       "writing score                  0\n",
       "dtype: int64"
      ]
     },
     "execution_count": 7,
     "metadata": {},
     "output_type": "execute_result"
    }
   ],
   "source": [
    "df.isna().sum()"
   ]
  },
  {
   "cell_type": "code",
   "execution_count": 8,
   "id": "8c7eda61",
   "metadata": {},
   "outputs": [
    {
     "data": {
      "text/plain": [
       "<AxesSubplot:>"
      ]
     },
     "execution_count": 8,
     "metadata": {},
     "output_type": "execute_result"
    },
    {
     "data": {
      "image/png": "[encoded data removed]",
      "text/plain": [
       "<Figure size 432x288 with 2 Axes>"
      ]
     },
     "metadata": {
      "needs_background": "light"
     },
     "output_type": "display_data"
    }
   ],
   "source": [
    "sns.heatmap(df.isna())"
   ]
  },
  {
   "cell_type": "code",
   "execution_count": 9,
   "id": "8f2d6433",
   "metadata": {},
   "outputs": [],
   "source": [
    "df['avarage score']=df[['math score','writing score','writing score']].mean(axis=1)"
   ]
  },
  {
   "cell_type": "code",
   "execution_count": 11,
   "id": "b6b51652",
   "metadata": {},
   "outputs": [
    {
     "data": {
      "text/plain": [
       "male      508\n",
       "female    492\n",
       "Name: gender, dtype: int64"
      ]
     },
     "execution_count": 11,
     "metadata": {},
     "output_type": "execute_result"
    }
   ],
   "source": [
    "df['gender'].value_counts()"
   ]
  },
  {
   "cell_type": "code",
   "execution_count": 12,
   "id": "1cd1b289",
   "metadata": {},
   "outputs": [
    {
     "data": {
      "text/plain": [
       "<AxesSubplot:xlabel='gender', ylabel='count'>"
      ]
     },
     "execution_count": 12,
     "metadata": {},
     "output_type": "execute_result"
    },
    {
     "data": {
      "image/png": "[encoded data removed]",
      "text/plain": [
       "<Figure size 432x288 with 1 Axes>"
      ]
     },
     "metadata": {
      "needs_background": "light"
     },
     "output_type": "display_data"
    }
   ],
   "source": [
    "sns.countplot(data=df,x='gender')"
   ]
  },
  {
   "cell_type": "code",
   "execution_count": 13,
   "id": "1ece9ff4",
   "metadata": {},
   "outputs": [
    {
     "data": {
      "text/plain": [
       "group C    323\n",
       "group D    257\n",
       "group B    198\n",
       "group E    143\n",
       "group A     79\n",
       "Name: race/ethnicity, dtype: int64"
      ]
     },
     "execution_count": 13,
     "metadata": {},
     "output_type": "execute_result"
    }
   ],
   "source": [
    "df['race/ethnicity'].value_counts()"
   ]
  },
  {
   "cell_type": "code",
   "execution_count": 16,
   "id": "4eb41ffc",
   "metadata": {},
   "outputs": [
    {
     "data": {
      "text/plain": [
       "<AxesSubplot:xlabel='race/ethnicity', ylabel='count'>"
      ]
     },
     "execution_count": 16,
     "metadata": {},
     "output_type": "execute_result"
    },
    {
     "data": {
      "image/png": "[encoded data removed]",
      "text/plain": [
       "<Figure size 720x432 with 1 Axes>"
      ]
     },
     "metadata": {
      "needs_background": "light"
     },
     "output_type": "display_data"
    }
   ],
   "source": [
    "plt.figure(figsize=(10,6))\n",
    "sns.countplot(data=df,x='race/ethnicity')"
   ]
  },
  {
   "cell_type": "code",
   "execution_count": 17,
   "id": "9d82a342",
   "metadata": {},
   "outputs": [
    {
     "data": {
      "text/plain": [
       "some college          224\n",
       "high school           215\n",
       "associate's degree    204\n",
       "some high school      177\n",
       "bachelor's degree     105\n",
       "master's degree        75\n",
       "Name: parental level of education, dtype: int64"
      ]
     },
     "execution_count": 17,
     "metadata": {},
     "output_type": "execute_result"
    }
   ],
   "source": [
    "df['parental level of education'].value_counts()"
   ]
  },
  {
   "cell_type": "code",
   "execution_count": 19,
   "id": "4a0e7ba5",
   "metadata": {},
   "outputs": [
    {
     "data": {
      "text/plain": [
       "<AxesSubplot:xlabel='parental level of education', ylabel='count'>"
      ]
     },
     "execution_count": 19,
     "metadata": {},
     "output_type": "execute_result"
    },
    {
     "data": {
      "image/png": "[encoded data removed]",
      "text/plain": [
       "<Figure size 720x432 with 1 Axes>"
      ]
     },
     "metadata": {
      "needs_background": "light"
     },
     "output_type": "display_data"
    }
   ],
   "source": [
    "plt.figure(figsize=(10,6))\n",
    "sns.countplot(data=df,x='parental level of education')"
   ]
  },
  {
   "cell_type": "code",
   "execution_count": 20,
   "id": "d55ece1d",
   "metadata": {},
   "outputs": [
    {
     "data": {
      "text/plain": [
       "standard        660\n",
       "free/reduced    340\n",
       "Name: lunch, dtype: int64"
      ]
     },
     "execution_count": 20,
     "metadata": {},
     "output_type": "execute_result"
    }
   ],
   "source": [
    "df['lunch'].value_counts()"
   ]
  },
  {
   "cell_type": "code",
   "execution_count": 32,
   "id": "bdeb7427",
   "metadata": {},
   "outputs": [
    {
     "data": {
      "text/plain": [
       "<AxesSubplot:xlabel='lunch', ylabel='count'>"
      ]
     },
     "execution_count": 32,
     "metadata": {},
     "output_type": "execute_result"
    },
    {
     "data": {
      "image/png": "[encoded data removed]",
      "text/plain": [
       "<Figure size 432x288 with 1 Axes>"
      ]
     },
     "metadata": {
      "needs_background": "light"
     },
     "output_type": "display_data"
    }
   ],
   "source": [
    "sns.countplot(data=df,x='lunch',palette=['y','b'])"
   ]
  },
  {
   "cell_type": "code",
   "execution_count": 23,
   "id": "df9d6d26",
   "metadata": {},
   "outputs": [
    {
     "data": {
      "text/plain": [
       "none         656\n",
       "completed    344\n",
       "Name: test preparation course, dtype: int64"
      ]
     },
     "execution_count": 23,
     "metadata": {},
     "output_type": "execute_result"
    }
   ],
   "source": [
    "df['test preparation course'].value_counts()"
   ]
  },
  {
   "cell_type": "code",
   "execution_count": 28,
   "id": "52036696",
   "metadata": {},
   "outputs": [
    {
     "data": {
      "text/plain": [
       "<AxesSubplot:xlabel='test preparation course', ylabel='count'>"
      ]
     },
     "execution_count": 28,
     "metadata": {},
     "output_type": "execute_result"
    },
    {
     "data": {
      "image/png": "[encoded data removed]",
      "text/plain": [
       "<Figure size 432x288 with 1 Axes>"
      ]
     },
     "metadata": {
      "needs_background": "light"
     },
     "output_type": "display_data"
    }
   ],
   "source": [
    "sns.countplot(data=df,x='test preparation course',palette=['g','r'])"
   ]
  },
  {
   "cell_type": "code",
   "execution_count": 33,
   "id": "280fffbf",
   "metadata": {},
   "outputs": [
    {
     "data": {
      "image/png": "[encoded data removed]",
      "text/plain": [
       "<Figure size 1440x1152 with 4 Axes>"
      ]
     },
     "metadata": {
      "needs_background": "light"
     },
     "output_type": "display_data"
    }
   ],
   "source": [
    "df.hist(figsize=(20,16))\n",
    "plt.show()"
   ]
  },
  {
   "cell_type": "code",
   "execution_count": 36,
   "id": "e84e35ba",
   "metadata": {},
   "outputs": [],
   "source": [
    "df.drop(['gender','race/ethnicity','parental level of education','lunch','test preparation course'],axis=1,inplace=True)"
   ]
  },
  {
   "cell_type": "markdown",
   "id": "bd35c021",
   "metadata": {},
   "source": [
    "# MODEL"
   ]
  },
  {
   "cell_type": "code",
   "execution_count": 41,
   "id": "edb4ff3b",
   "metadata": {},
   "outputs": [],
   "source": [
    "X=df.drop(\"avarage score\",axis=1)\n",
    "y=df['avarage score']"
   ]
  },
  {
   "cell_type": "code",
   "execution_count": 42,
   "id": "9e724fc0",
   "metadata": {},
   "outputs": [
    {
     "data": {
      "text/html": [
       "<div>\n",
       "<style scoped>\n",
       "    .dataframe tbody tr th:only-of-type {\n",
       "        vertical-align: middle;\n",
       "    }\n",
       "\n",
       "    .dataframe tbody tr th {\n",
       "        vertical-align: top;\n",
       "    }\n",
       "\n",
       "    .dataframe thead th {\n",
       "        text-align: right;\n",
       "    }\n",
       "</style>\n",
       "<table border=\"1\" class=\"dataframe\">\n",
       "  <thead>\n",
       "    <tr style=\"text-align: right;\">\n",
       "      <th></th>\n",
       "      <th>math score</th>\n",
       "      <th>reading score</th>\n",
       "      <th>writing score</th>\n",
       "    </tr>\n",
       "  </thead>\n",
       "  <tbody>\n",
       "    <tr>\n",
       "      <th>0</th>\n",
       "      <td>59</td>\n",
       "      <td>70</td>\n",
       "      <td>78</td>\n",
       "    </tr>\n",
       "    <tr>\n",
       "      <th>1</th>\n",
       "      <td>96</td>\n",
       "      <td>93</td>\n",
       "      <td>87</td>\n",
       "    </tr>\n",
       "    <tr>\n",
       "      <th>2</th>\n",
       "      <td>57</td>\n",
       "      <td>76</td>\n",
       "      <td>77</td>\n",
       "    </tr>\n",
       "    <tr>\n",
       "      <th>3</th>\n",
       "      <td>70</td>\n",
       "      <td>70</td>\n",
       "      <td>63</td>\n",
       "    </tr>\n",
       "    <tr>\n",
       "      <th>4</th>\n",
       "      <td>83</td>\n",
       "      <td>85</td>\n",
       "      <td>86</td>\n",
       "    </tr>\n",
       "    <tr>\n",
       "      <th>...</th>\n",
       "      <td>...</td>\n",
       "      <td>...</td>\n",
       "      <td>...</td>\n",
       "    </tr>\n",
       "    <tr>\n",
       "      <th>995</th>\n",
       "      <td>77</td>\n",
       "      <td>77</td>\n",
       "      <td>71</td>\n",
       "    </tr>\n",
       "    <tr>\n",
       "      <th>996</th>\n",
       "      <td>80</td>\n",
       "      <td>66</td>\n",
       "      <td>66</td>\n",
       "    </tr>\n",
       "    <tr>\n",
       "      <th>997</th>\n",
       "      <td>67</td>\n",
       "      <td>86</td>\n",
       "      <td>86</td>\n",
       "    </tr>\n",
       "    <tr>\n",
       "      <th>998</th>\n",
       "      <td>80</td>\n",
       "      <td>72</td>\n",
       "      <td>62</td>\n",
       "    </tr>\n",
       "    <tr>\n",
       "      <th>999</th>\n",
       "      <td>58</td>\n",
       "      <td>47</td>\n",
       "      <td>45</td>\n",
       "    </tr>\n",
       "  </tbody>\n",
       "</table>\n",
       "<p>1000 rows × 3 columns</p>\n",
       "</div>"
      ],
      "text/plain": [
       "     math score  reading score  writing score\n",
       "0            59             70             78\n",
       "1            96             93             87\n",
       "2            57             76             77\n",
       "3            70             70             63\n",
       "4            83             85             86\n",
       "..          ...            ...            ...\n",
       "995          77             77             71\n",
       "996          80             66             66\n",
       "997          67             86             86\n",
       "998          80             72             62\n",
       "999          58             47             45\n",
       "\n",
       "[1000 rows x 3 columns]"
      ]
     },
     "execution_count": 42,
     "metadata": {},
     "output_type": "execute_result"
    }
   ],
   "source": [
    "X"
   ]
  },
  {
   "cell_type": "code",
   "execution_count": 43,
   "id": "956220c7",
   "metadata": {},
   "outputs": [
    {
     "data": {
      "text/plain": [
       "0      71.666667\n",
       "1      90.000000\n",
       "2      70.333333\n",
       "3      65.333333\n",
       "4      85.000000\n",
       "         ...    \n",
       "995    73.000000\n",
       "996    70.666667\n",
       "997    79.666667\n",
       "998    68.000000\n",
       "999    49.333333\n",
       "Name: avarage score, Length: 1000, dtype: float64"
      ]
     },
     "execution_count": 43,
     "metadata": {},
     "output_type": "execute_result"
    }
   ],
   "source": [
    "y"
   ]
  },
  {
   "cell_type": "code",
   "execution_count": 44,
   "id": "7561a139",
   "metadata": {},
   "outputs": [],
   "source": [
    "from sklearn.model_selection import train_test_split"
   ]
  },
  {
   "cell_type": "code",
   "execution_count": 45,
   "id": "d5ef859c",
   "metadata": {},
   "outputs": [],
   "source": [
    "X_train, X_test, y_train, y_test = train_test_split(X, y, test_size=0.33, random_state=42)"
   ]
  },
  {
   "cell_type": "code",
   "execution_count": 46,
   "id": "1643c60a",
   "metadata": {},
   "outputs": [
    {
     "data": {
      "text/plain": [
       "((670, 3), (330, 3), (670,), (330,))"
      ]
     },
     "execution_count": 46,
     "metadata": {},
     "output_type": "execute_result"
    }
   ],
   "source": [
    "X_train.shape, X_test.shape, y_train.shape, y_test.shape"
   ]
  },
  {
   "cell_type": "code",
   "execution_count": 47,
   "id": "a2d73f11",
   "metadata": {},
   "outputs": [],
   "source": [
    "from sklearn.linear_model import LinearRegression"
   ]
  },
  {
   "cell_type": "code",
   "execution_count": 48,
   "id": "4bc3cf77",
   "metadata": {},
   "outputs": [],
   "source": [
    "model=LinearRegression()"
   ]
  },
  {
   "cell_type": "code",
   "execution_count": 49,
   "id": "f4aeb5a0",
   "metadata": {},
   "outputs": [
    {
     "data": {
      "text/plain": [
       "LinearRegression()"
      ]
     },
     "execution_count": 49,
     "metadata": {},
     "output_type": "execute_result"
    }
   ],
   "source": [
    "model.fit(X_train,y_train)"
   ]
  },
  {
   "cell_type": "code",
   "execution_count": 51,
   "id": "c3d38248",
   "metadata": {},
   "outputs": [
    {
     "data": {
      "text/plain": [
       "array([69.        , 79.33333333, 51.66666667, 67.33333333, 82.        ,\n",
       "       51.        , 72.66666667, 28.        , 81.33333333, 87.        ,\n",
       "       54.        , 87.33333333, 96.33333333, 72.        , 58.33333333,\n",
       "       97.33333333, 75.        , 70.33333333, 79.33333333, 48.33333333,\n",
       "       78.        , 62.33333333, 60.        , 89.        , 60.33333333,\n",
       "       80.66666667, 55.        , 81.33333333, 68.33333333, 75.        ,\n",
       "       54.66666667, 74.66666667, 85.66666667, 62.66666667, 51.33333333,\n",
       "       95.66666667, 64.        , 66.33333333, 78.66666667, 66.33333333,\n",
       "       61.        , 80.66666667, 92.66666667, 92.66666667, 70.33333333,\n",
       "       79.        , 57.        , 55.66666667, 64.        , 49.66666667,\n",
       "       70.33333333, 59.        , 61.66666667, 72.66666667, 87.        ,\n",
       "       83.33333333, 47.        , 70.66666667, 65.        , 67.66666667,\n",
       "       42.33333333, 65.        , 64.        , 56.66666667, 58.66666667,\n",
       "       72.33333333, 80.66666667, 88.        , 79.66666667, 76.66666667,\n",
       "       70.        , 67.        , 56.33333333, 79.33333333, 98.66666667,\n",
       "       70.66666667, 78.66666667, 81.66666667, 67.        , 67.        ,\n",
       "       70.        , 69.        , 57.33333333, 83.        , 57.        ,\n",
       "       89.        , 68.        , 72.33333333, 43.        , 52.33333333,\n",
       "       78.        , 72.        , 56.33333333, 80.33333333, 62.33333333,\n",
       "       64.66666667, 68.33333333, 62.66666667, 67.        , 49.33333333,\n",
       "       76.33333333, 41.        , 64.        , 50.66666667, 68.        ,\n",
       "       68.66666667, 71.        , 91.66666667, 73.33333333, 74.        ,\n",
       "       76.        , 75.66666667, 70.33333333, 53.66666667, 61.33333333,\n",
       "       69.66666667, 72.33333333, 92.66666667, 67.        , 60.66666667,\n",
       "       79.66666667, 76.33333333, 82.33333333, 47.        , 59.33333333,\n",
       "       69.66666667, 42.        , 69.33333333, 59.66666667, 78.33333333,\n",
       "       71.33333333, 79.33333333, 61.        , 73.        , 76.33333333,\n",
       "       61.33333333, 79.66666667, 87.33333333, 72.66666667, 29.66666667,\n",
       "       53.33333333, 78.        , 75.66666667, 55.33333333, 88.        ,\n",
       "       94.66666667, 69.33333333, 79.33333333, 65.33333333, 52.66666667,\n",
       "       95.        , 81.        , 51.        , 67.66666667, 78.        ,\n",
       "       69.66666667, 56.33333333, 62.        , 77.33333333, 74.        ,\n",
       "       70.        , 72.        , 86.33333333, 60.33333333, 82.33333333,\n",
       "       87.        , 46.        , 88.33333333, 55.33333333, 81.33333333,\n",
       "       73.33333333, 60.33333333, 76.66666667, 67.        , 89.66666667,\n",
       "       86.        , 37.        , 76.66666667, 79.66666667, 73.        ,\n",
       "       55.        , 91.        , 80.66666667, 63.        , 68.        ,\n",
       "       76.66666667, 80.33333333, 68.33333333, 47.        , 61.66666667,\n",
       "       67.66666667, 67.66666667, 71.33333333, 92.33333333, 92.        ,\n",
       "       91.33333333, 64.        , 60.66666667, 65.33333333, 77.66666667,\n",
       "       87.33333333, 54.66666667, 81.        , 65.33333333, 73.33333333,\n",
       "       74.        , 52.        , 82.33333333, 62.        , 58.66666667,\n",
       "       35.66666667, 62.33333333, 83.66666667, 71.66666667, 38.33333333,\n",
       "       66.66666667, 84.66666667, 59.        , 68.        , 58.        ,\n",
       "       70.        , 80.66666667, 47.66666667, 80.        , 81.66666667,\n",
       "       70.33333333, 76.        , 68.66666667, 88.        , 84.        ,\n",
       "       87.        , 87.33333333, 49.33333333, 70.66666667, 35.33333333,\n",
       "       75.33333333, 82.        , 56.        , 60.33333333, 55.66666667,\n",
       "       65.33333333, 72.        , 89.66666667, 47.66666667, 55.33333333,\n",
       "       80.66666667, 83.        , 57.66666667, 83.66666667, 71.66666667,\n",
       "       45.        , 75.33333333, 89.33333333, 54.        , 68.        ,\n",
       "       96.66666667, 66.        , 69.66666667, 62.33333333, 58.66666667,\n",
       "       64.        , 90.        , 76.33333333, 77.33333333, 73.        ,\n",
       "       82.66666667, 62.33333333, 90.33333333, 72.        , 60.66666667,\n",
       "       60.33333333, 47.33333333, 85.        , 72.33333333, 54.66666667,\n",
       "       70.33333333, 84.66666667, 47.66666667, 93.66666667, 79.33333333,\n",
       "       56.        , 89.66666667, 52.33333333, 45.        , 53.33333333,\n",
       "       72.33333333, 85.        , 60.66666667, 54.        , 91.        ,\n",
       "       63.66666667, 79.33333333, 60.66666667, 69.        , 82.33333333,\n",
       "       32.33333333, 64.        , 70.33333333, 54.        , 71.66666667,\n",
       "       66.        , 62.66666667, 77.        , 80.66666667, 51.66666667,\n",
       "       73.        , 49.        , 71.33333333, 59.66666667, 56.        ,\n",
       "       50.33333333, 70.66666667, 57.        , 91.66666667, 87.        ,\n",
       "       60.33333333, 16.66666667, 66.66666667, 89.33333333, 73.33333333,\n",
       "       59.66666667, 85.        , 93.33333333, 84.        , 53.33333333,\n",
       "       42.66666667, 57.33333333, 73.        , 55.        , 65.66666667])"
      ]
     },
     "execution_count": 51,
     "metadata": {},
     "output_type": "execute_result"
    }
   ],
   "source": [
    "pre=model.predict(X_test)\n",
    "pre"
   ]
  },
  {
   "cell_type": "code",
   "execution_count": 52,
   "id": "cdf76afa",
   "metadata": {},
   "outputs": [
    {
     "data": {
      "text/plain": [
       "array([69.        , 79.33333333, 51.66666667, 67.33333333, 82.        ,\n",
       "       51.        , 72.66666667, 28.        , 81.33333333, 87.        ,\n",
       "       54.        , 87.33333333, 96.33333333, 72.        , 58.33333333,\n",
       "       97.33333333, 75.        , 70.33333333, 79.33333333, 48.33333333,\n",
       "       78.        , 62.33333333, 60.        , 89.        , 60.33333333,\n",
       "       80.66666667, 55.        , 81.33333333, 68.33333333, 75.        ,\n",
       "       54.66666667, 74.66666667, 85.66666667, 62.66666667, 51.33333333,\n",
       "       95.66666667, 64.        , 66.33333333, 78.66666667, 66.33333333,\n",
       "       61.        , 80.66666667, 92.66666667, 92.66666667, 70.33333333,\n",
       "       79.        , 57.        , 55.66666667, 64.        , 49.66666667,\n",
       "       70.33333333, 59.        , 61.66666667, 72.66666667, 87.        ,\n",
       "       83.33333333, 47.        , 70.66666667, 65.        , 67.66666667,\n",
       "       42.33333333, 65.        , 64.        , 56.66666667, 58.66666667,\n",
       "       72.33333333, 80.66666667, 88.        , 79.66666667, 76.66666667,\n",
       "       70.        , 67.        , 56.33333333, 79.33333333, 98.66666667,\n",
       "       70.66666667, 78.66666667, 81.66666667, 67.        , 67.        ,\n",
       "       70.        , 69.        , 57.33333333, 83.        , 57.        ,\n",
       "       89.        , 68.        , 72.33333333, 43.        , 52.33333333,\n",
       "       78.        , 72.        , 56.33333333, 80.33333333, 62.33333333,\n",
       "       64.66666667, 68.33333333, 62.66666667, 67.        , 49.33333333,\n",
       "       76.33333333, 41.        , 64.        , 50.66666667, 68.        ,\n",
       "       68.66666667, 71.        , 91.66666667, 73.33333333, 74.        ,\n",
       "       76.        , 75.66666667, 70.33333333, 53.66666667, 61.33333333,\n",
       "       69.66666667, 72.33333333, 92.66666667, 67.        , 60.66666667,\n",
       "       79.66666667, 76.33333333, 82.33333333, 47.        , 59.33333333,\n",
       "       69.66666667, 42.        , 69.33333333, 59.66666667, 78.33333333,\n",
       "       71.33333333, 79.33333333, 61.        , 73.        , 76.33333333,\n",
       "       61.33333333, 79.66666667, 87.33333333, 72.66666667, 29.66666667,\n",
       "       53.33333333, 78.        , 75.66666667, 55.33333333, 88.        ,\n",
       "       94.66666667, 69.33333333, 79.33333333, 65.33333333, 52.66666667,\n",
       "       95.        , 81.        , 51.        , 67.66666667, 78.        ,\n",
       "       69.66666667, 56.33333333, 62.        , 77.33333333, 74.        ,\n",
       "       70.        , 72.        , 86.33333333, 60.33333333, 82.33333333,\n",
       "       87.        , 46.        , 88.33333333, 55.33333333, 81.33333333,\n",
       "       73.33333333, 60.33333333, 76.66666667, 67.        , 89.66666667,\n",
       "       86.        , 37.        , 76.66666667, 79.66666667, 73.        ,\n",
       "       55.        , 91.        , 80.66666667, 63.        , 68.        ,\n",
       "       76.66666667, 80.33333333, 68.33333333, 47.        , 61.66666667,\n",
       "       67.66666667, 67.66666667, 71.33333333, 92.33333333, 92.        ,\n",
       "       91.33333333, 64.        , 60.66666667, 65.33333333, 77.66666667,\n",
       "       87.33333333, 54.66666667, 81.        , 65.33333333, 73.33333333,\n",
       "       74.        , 52.        , 82.33333333, 62.        , 58.66666667,\n",
       "       35.66666667, 62.33333333, 83.66666667, 71.66666667, 38.33333333,\n",
       "       66.66666667, 84.66666667, 59.        , 68.        , 58.        ,\n",
       "       70.        , 80.66666667, 47.66666667, 80.        , 81.66666667,\n",
       "       70.33333333, 76.        , 68.66666667, 88.        , 84.        ,\n",
       "       87.        , 87.33333333, 49.33333333, 70.66666667, 35.33333333,\n",
       "       75.33333333, 82.        , 56.        , 60.33333333, 55.66666667,\n",
       "       65.33333333, 72.        , 89.66666667, 47.66666667, 55.33333333,\n",
       "       80.66666667, 83.        , 57.66666667, 83.66666667, 71.66666667,\n",
       "       45.        , 75.33333333, 89.33333333, 54.        , 68.        ,\n",
       "       96.66666667, 66.        , 69.66666667, 62.33333333, 58.66666667,\n",
       "       64.        , 90.        , 76.33333333, 77.33333333, 73.        ,\n",
       "       82.66666667, 62.33333333, 90.33333333, 72.        , 60.66666667,\n",
       "       60.33333333, 47.33333333, 85.        , 72.33333333, 54.66666667,\n",
       "       70.33333333, 84.66666667, 47.66666667, 93.66666667, 79.33333333,\n",
       "       56.        , 89.66666667, 52.33333333, 45.        , 53.33333333,\n",
       "       72.33333333, 85.        , 60.66666667, 54.        , 91.        ,\n",
       "       63.66666667, 79.33333333, 60.66666667, 69.        , 82.33333333,\n",
       "       32.33333333, 64.        , 70.33333333, 54.        , 71.66666667,\n",
       "       66.        , 62.66666667, 77.        , 80.66666667, 51.66666667,\n",
       "       73.        , 49.        , 71.33333333, 59.66666667, 56.        ,\n",
       "       50.33333333, 70.66666667, 57.        , 91.66666667, 87.        ,\n",
       "       60.33333333, 16.66666667, 66.66666667, 89.33333333, 73.33333333,\n",
       "       59.66666667, 85.        , 93.33333333, 84.        , 53.33333333,\n",
       "       42.66666667, 57.33333333, 73.        , 55.        , 65.66666667])"
      ]
     },
     "execution_count": 52,
     "metadata": {},
     "output_type": "execute_result"
    }
   ],
   "source": [
    "y_test.values"
   ]
  },
  {
   "cell_type": "code",
   "execution_count": 61,
   "id": "d76d6eda",
   "metadata": {},
   "outputs": [],
   "source": [
    "from sklearn.metrics import rand_score"
   ]
  },
  {
   "cell_type": "code",
   "execution_count": 62,
   "id": "455e3967",
   "metadata": {},
   "outputs": [
    {
     "name": "stderr",
     "output_type": "stream",
     "text": [
      "C:\\Users\\amr\\anaconda3\\lib\\site-packages\\sklearn\\metrics\\cluster\\_supervised.py:58: UserWarning: Clustering metrics expects discrete values but received continuous values for label, and continuous values for target\n",
      "  warnings.warn(msg, UserWarning)\n"
     ]
    },
    {
     "data": {
      "text/plain": [
       "0.9962236345215069"
      ]
     },
     "execution_count": 62,
     "metadata": {},
     "output_type": "execute_result"
    }
   ],
   "source": [
    " rand_score(pre,y_test)"
   ]
  },
  {
   "cell_type": "code",
   "execution_count": null,
   "id": "cea018d5",
   "metadata": {},
   "outputs": [],
   "source": []
  }
 ],
 "metadata": {
  "kernelspec": {
   "display_name": "Python 3",
   "language": "python",
   "name": "python3"
  },
  "language_info": {
   "codemirror_mode": {
    "name": "ipython",
    "version": 3
   },
   "file_extension": ".py",
   "mimetype": "text/x-python",
   "name": "python",
   "nbconvert_exporter": "python",
   "pygments_lexer": "ipython3",
   "version": "3.8.8"
  }
 },
 "nbformat": 4,
 "nbformat_minor": 5
}
